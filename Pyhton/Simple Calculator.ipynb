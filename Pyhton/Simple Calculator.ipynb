{
 "cells": [
  {
   "cell_type": "code",
   "execution_count": 2,
   "id": "15dc5f12",
   "metadata": {},
   "outputs": [
    {
     "name": "stdout",
     "output_type": "stream",
     "text": [
      "Lütfen yapmak istediğiniz işlemi seçin.\n",
      "1. Toplama\n",
      "2. Çıkarma\n",
      "3. Çarpma\n",
      "4. Bölme\n",
      "Seçiminiz (1/2/3/4): 2\n",
      "İlk sayıyı girin: 3\n",
      "İkinci sayıyı girin: 4\n",
      "3.0 - 4.0 = -1.0\n"
     ]
    }
   ],
   "source": [
    "def topla(x, y):\n",
    "    \"\"\"İki sayıyı toplar.\"\"\"\n",
    "    return x + y\n",
    "\n",
    "def cikar(x, y):\n",
    "    \"\"\"İki sayıyı çıkarır.\"\"\"\n",
    "    return x - y\n",
    "\n",
    "def carp(x, y):\n",
    "    \"\"\"İki sayıyı çarpar.\"\"\"\n",
    "    return x * y\n",
    "\n",
    "def bol(x, y):\n",
    "    \"\"\"İki sayıyı böler.\"\"\"\n",
    "    if y == 0:\n",
    "        raise ValueError(\"Bir sayı sıfıra bölünemez.\")\n",
    "    return x / y\n",
    "\n",
    "print(\"Lütfen yapmak istediğiniz işlemi seçin.\")\n",
    "print(\"1. Toplama\")\n",
    "print(\"2. Çıkarma\")\n",
    "print(\"3. Çarpma\")\n",
    "print(\"4. Bölme\")\n",
    "\n",
    "secim = input(\"Seçiminiz (1/2/3/4): \")\n",
    "\n",
    "sayi1 = float(input(\"İlk sayıyı girin: \"))\n",
    "sayi2 = float(input(\"İkinci sayıyı girin: \"))\n",
    "\n",
    "if secim == '1':\n",
    "    print(sayi1, \"+\", sayi2, \"=\", topla(sayi1, sayi2))\n",
    "\n",
    "elif secim == '2':\n",
    "    print(sayi1, \"-\", sayi2, \"=\", cikar(sayi1, sayi2))\n",
    "\n",
    "elif secim == '3':\n",
    "    print(sayi1, \"*\", sayi2, \"=\", carp(sayi1, sayi2))\n",
    "\n",
    "elif secim == '4':\n",
    "    try:\n",
    "        print(sayi1, \"/\", sayi2, \"=\", bol(sayi1, sayi2))\n",
    "    except ValueError as ve:\n",
    "        print(ve)\n",
    "else:\n",
    "    print(\"Yanlış seçim.\")\n"
   ]
  },
  {
   "cell_type": "code",
   "execution_count": null,
   "id": "75546ec5",
   "metadata": {},
   "outputs": [],
   "source": []
  }
 ],
 "metadata": {
  "kernelspec": {
   "display_name": "Python 3 (ipykernel)",
   "language": "python",
   "name": "python3"
  },
  "language_info": {
   "codemirror_mode": {
    "name": "ipython",
    "version": 3
   },
   "file_extension": ".py",
   "mimetype": "text/x-python",
   "name": "python",
   "nbconvert_exporter": "python",
   "pygments_lexer": "ipython3",
   "version": "3.11.3"
  }
 },
 "nbformat": 4,
 "nbformat_minor": 5
}
