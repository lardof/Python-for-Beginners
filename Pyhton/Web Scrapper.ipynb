{
 "cells": [
  {
   "cell_type": "code",
   "execution_count": 2,
   "id": "f7ad4068",
   "metadata": {},
   "outputs": [],
   "source": [
    "import requests\n",
    "from bs4 import BeautifulSoup"
   ]
  },
  {
   "cell_type": "code",
   "execution_count": 3,
   "id": "3b0da57e",
   "metadata": {},
   "outputs": [],
   "source": [
    "import requests\n",
    "from bs4 import BeautifulSoup\n",
    "\n",
    "# Veri toplanacak web sayfasının URL'si\n",
    "url = 'https://www.example.com'\n",
    "\n",
    "# Web sayfasını almak için GET isteği yapılır\n",
    "response = requests.get(url)\n",
    "\n",
    "# Web sayfasının içeriği BeautifulSoup ile parse edilir\n",
    "soup = BeautifulSoup(response.text, 'html.parser')\n",
    "\n",
    "# Tüm başlıkları (h1 etiketleri) bul\n",
    "basliklar = soup.find_all('h1')\n",
    "\n",
    "# Her başlığı ekrana yazdır\n",
    "for baslik in basliklar:\n",
    "    print(baslik.text)\n"
   ]
  },
  {
   "cell_type": "code",
   "execution_count": null,
   "id": "7eef1383",
   "metadata": {},
   "outputs": [],
   "source": []
  }
 ],
 "metadata": {
  "kernelspec": {
   "display_name": "Python 3 (ipykernel)",
   "language": "python",
   "name": "python3"
  },
  "language_info": {
   "codemirror_mode": {
    "name": "ipython",
    "version": 3
   },
   "file_extension": ".py",
   "mimetype": "text/x-python",
   "name": "python",
   "nbconvert_exporter": "python",
   "pygments_lexer": "ipython3",
   "version": "3.11.3"
  }
 },
 "nbformat": 4,
 "nbformat_minor": 5
}
