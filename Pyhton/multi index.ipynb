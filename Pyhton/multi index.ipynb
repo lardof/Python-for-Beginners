{
 "cells": [
  {
   "cell_type": "code",
   "execution_count": 1,
   "id": "c8b4f0ea",
   "metadata": {},
   "outputs": [],
   "source": [
    "import pandas as pd\n",
    "import numpy as np\n",
    "\n",
    "idx1 = [\"Ocak\",\"Ocak\",\"Ocak\",\"Ocak\",\"Şubat\",\"Şubat\",\"Şubat\"]\n",
    "idx2 = [\"Hafta 1\",\"Hafta 2\",\"Hafta 3\",\"Hafta 4\",\"Hafta 1\",\"Hafta 2\",\"Hafta 3\",\"Hafta 4\"]"
   ]
  },
  {
   "cell_type": "code",
   "execution_count": 3,
   "id": "45ce00a0",
   "metadata": {},
   "outputs": [
    {
     "data": {
      "text/plain": [
       "[('Ocak', 'Hafta 1'),\n",
       " ('Ocak', 'Hafta 2'),\n",
       " ('Ocak', 'Hafta 3'),\n",
       " ('Ocak', 'Hafta 4'),\n",
       " ('Şubat', 'Hafta 1'),\n",
       " ('Şubat', 'Hafta 2'),\n",
       " ('Şubat', 'Hafta 3'),\n",
       " ('Şubat', 'Hafta 4')]"
      ]
     },
     "execution_count": 3,
     "metadata": {},
     "output_type": "execute_result"
    }
   ],
   "source": [
    "idx_m = list(zip(idx1, idx2))\n",
    "idx_m"
   ]
  },
  {
   "cell_type": "code",
   "execution_count": 7,
   "id": "98c0f704",
   "metadata": {},
   "outputs": [
    {
     "data": {
      "text/plain": [
       "MultiIndex([( 'Ocak', 'Hafta 1'),\n",
       "            ( 'Ocak', 'Hafta 2'),\n",
       "            ( 'Ocak', 'Hafta 3'),\n",
       "            ( 'Ocak', 'Hafta 4'),\n",
       "            ('Şubat', 'Hafta 1'),\n",
       "            ('Şubat', 'Hafta 2'),\n",
       "            ('Şubat', 'Hafta 3'),\n",
       "            ('Şubat', 'Hafta 4')],\n",
       "           )"
      ]
     },
     "execution_count": 7,
     "metadata": {},
     "output_type": "execute_result"
    }
   ],
   "source": [
    "idx_m = pd.MultiIndex.from_tuples(idx_m)\n",
    "idx_m"
   ]
  },
  {
   "cell_type": "code",
   "execution_count": 23,
   "id": "3100fefe",
   "metadata": {},
   "outputs": [],
   "source": [
    "liste = np.random.rand(8)"
   ]
  },
  {
   "cell_type": "code",
   "execution_count": 24,
   "id": "edbdfea1",
   "metadata": {},
   "outputs": [
    {
     "data": {
      "text/html": [
       "<div>\n",
       "<style scoped>\n",
       "    .dataframe tbody tr th:only-of-type {\n",
       "        vertical-align: middle;\n",
       "    }\n",
       "\n",
       "    .dataframe tbody tr th {\n",
       "        vertical-align: top;\n",
       "    }\n",
       "\n",
       "    .dataframe thead th {\n",
       "        text-align: right;\n",
       "    }\n",
       "</style>\n",
       "<table border=\"1\" class=\"dataframe\">\n",
       "  <thead>\n",
       "    <tr style=\"text-align: right;\">\n",
       "      <th></th>\n",
       "      <th></th>\n",
       "      <th>Satis</th>\n",
       "    </tr>\n",
       "  </thead>\n",
       "  <tbody>\n",
       "    <tr>\n",
       "      <th rowspan=\"4\" valign=\"top\">Ocak</th>\n",
       "      <th>Hafta 1</th>\n",
       "      <td>0.882456</td>\n",
       "    </tr>\n",
       "    <tr>\n",
       "      <th>Hafta 2</th>\n",
       "      <td>0.941840</td>\n",
       "    </tr>\n",
       "    <tr>\n",
       "      <th>Hafta 3</th>\n",
       "      <td>0.908096</td>\n",
       "    </tr>\n",
       "    <tr>\n",
       "      <th>Hafta 4</th>\n",
       "      <td>0.138293</td>\n",
       "    </tr>\n",
       "    <tr>\n",
       "      <th rowspan=\"4\" valign=\"top\">Şubat</th>\n",
       "      <th>Hafta 1</th>\n",
       "      <td>0.174663</td>\n",
       "    </tr>\n",
       "    <tr>\n",
       "      <th>Hafta 2</th>\n",
       "      <td>0.907120</td>\n",
       "    </tr>\n",
       "    <tr>\n",
       "      <th>Hafta 3</th>\n",
       "      <td>0.555956</td>\n",
       "    </tr>\n",
       "    <tr>\n",
       "      <th>Hafta 4</th>\n",
       "      <td>0.101596</td>\n",
       "    </tr>\n",
       "  </tbody>\n",
       "</table>\n",
       "</div>"
      ],
      "text/plain": [
       "                  Satis\n",
       "Ocak  Hafta 1  0.882456\n",
       "      Hafta 2  0.941840\n",
       "      Hafta 3  0.908096\n",
       "      Hafta 4  0.138293\n",
       "Şubat Hafta 1  0.174663\n",
       "      Hafta 2  0.907120\n",
       "      Hafta 3  0.555956\n",
       "      Hafta 4  0.101596"
      ]
     },
     "execution_count": 24,
     "metadata": {},
     "output_type": "execute_result"
    }
   ],
   "source": [
    "tablo = pd.DataFrame(data = liste, index = idx_m, columns = [\"Satis\"])\n",
    "tablo"
   ]
  },
  {
   "cell_type": "code",
   "execution_count": 25,
   "id": "0540808f",
   "metadata": {},
   "outputs": [
    {
     "data": {
      "text/html": [
       "<div>\n",
       "<style scoped>\n",
       "    .dataframe tbody tr th:only-of-type {\n",
       "        vertical-align: middle;\n",
       "    }\n",
       "\n",
       "    .dataframe tbody tr th {\n",
       "        vertical-align: top;\n",
       "    }\n",
       "\n",
       "    .dataframe thead th {\n",
       "        text-align: right;\n",
       "    }\n",
       "</style>\n",
       "<table border=\"1\" class=\"dataframe\">\n",
       "  <thead>\n",
       "    <tr style=\"text-align: right;\">\n",
       "      <th></th>\n",
       "      <th></th>\n",
       "      <th>Satis</th>\n",
       "    </tr>\n",
       "  </thead>\n",
       "  <tbody>\n",
       "    <tr>\n",
       "      <th rowspan=\"4\" valign=\"top\">Ocak</th>\n",
       "      <th>Hafta 1</th>\n",
       "      <td>0.882456</td>\n",
       "    </tr>\n",
       "    <tr>\n",
       "      <th>Hafta 2</th>\n",
       "      <td>0.941840</td>\n",
       "    </tr>\n",
       "    <tr>\n",
       "      <th>Hafta 3</th>\n",
       "      <td>0.908096</td>\n",
       "    </tr>\n",
       "    <tr>\n",
       "      <th>Hafta 4</th>\n",
       "      <td>0.138293</td>\n",
       "    </tr>\n",
       "  </tbody>\n",
       "</table>\n",
       "</div>"
      ],
      "text/plain": [
       "                 Satis\n",
       "Ocak Hafta 1  0.882456\n",
       "     Hafta 2  0.941840\n",
       "     Hafta 3  0.908096\n",
       "     Hafta 4  0.138293"
      ]
     },
     "execution_count": 25,
     "metadata": {},
     "output_type": "execute_result"
    }
   ],
   "source": [
    "tablo.loc[[\"Ocak\"]]"
   ]
  },
  {
   "cell_type": "code",
   "execution_count": 31,
   "id": "7e9b746d",
   "metadata": {},
   "outputs": [
    {
     "data": {
      "text/plain": [
       "Satis    0.908096\n",
       "Name: Hafta 3, dtype: float64"
      ]
     },
     "execution_count": 31,
     "metadata": {},
     "output_type": "execute_result"
    }
   ],
   "source": [
    "tablo.loc[\"Ocak\"].loc[\"Hafta 3\"]"
   ]
  },
  {
   "cell_type": "code",
   "execution_count": null,
   "id": "53e4d48c",
   "metadata": {},
   "outputs": [],
   "source": []
  }
 ],
 "metadata": {
  "kernelspec": {
   "display_name": "Python 3 (ipykernel)",
   "language": "python",
   "name": "python3"
  },
  "language_info": {
   "codemirror_mode": {
    "name": "ipython",
    "version": 3
   },
   "file_extension": ".py",
   "mimetype": "text/x-python",
   "name": "python",
   "nbconvert_exporter": "python",
   "pygments_lexer": "ipython3",
   "version": "3.9.16"
  }
 },
 "nbformat": 4,
 "nbformat_minor": 5
}
