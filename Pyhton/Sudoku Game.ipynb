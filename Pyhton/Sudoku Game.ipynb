{
 "cells": [
  {
   "cell_type": "code",
   "execution_count": 2,
   "id": "e9a15b5d",
   "metadata": {},
   "outputs": [],
   "source": [
    "import random"
   ]
  },
  {
   "cell_type": "code",
   "execution_count": 3,
   "id": "d8141321",
   "metadata": {},
   "outputs": [
    {
     "name": "stdout",
     "output_type": "stream",
     "text": [
      "0 8 0 | 0 0 4 | 0 0 7\n",
      "0 0 0 | 0 0 0 | 0 9 0\n",
      "0 0 0 | 0 0 0 | 0 2 0\n",
      "- - - - - - - - - - - -\n",
      "0 0 0 | 0 4 0 | 0 0 6\n",
      "0 0 0 | 0 0 9 | 0 0 0\n",
      "0 0 0 | 0 0 0 | 0 0 0\n",
      "- - - - - - - - - - - -\n",
      "0 0 0 | 0 0 8 | 0 0 2\n",
      "9 0 0 | 0 0 0 | 1 0 0\n",
      "0 0 0 | 0 0 0 | 7 0 0\n"
     ]
    }
   ],
   "source": [
    "def generate_board():\n",
    "    # Boş bir Sudoku tahtası oluştur\n",
    "    board = [[0] * 9 for _ in range(9)]\n",
    "\n",
    "    # Rastgele olarak 15 sayı yerleştir\n",
    "    for _ in range(15):\n",
    "        row = random.randint(0, 8)\n",
    "        col = random.randint(0, 8)\n",
    "        num = random.randint(1, 9)\n",
    "        while not is_valid(board, num, (row, col)):\n",
    "            num = random.randint(1, 9)\n",
    "        board[row][col] = num\n",
    "\n",
    "    return board\n",
    "\n",
    "def print_board(board):\n",
    "    for i in range(9):\n",
    "        if i % 3 == 0 and i != 0:\n",
    "            print(\"- - - - - - - - - - - -\")\n",
    "        for j in range(9):\n",
    "            if j % 3 == 0 and j != 0:\n",
    "                print(\"|\", end=\" \")\n",
    "            if j == 8:\n",
    "                print(board[i][j])\n",
    "            else:\n",
    "                print(str(board[i][j]) + \" \", end=\"\")\n",
    "\n",
    "def is_valid(board, num, pos):\n",
    "    # Aynı satırda aynı sayı yok mu diye kontrol et\n",
    "    if num in board[pos[0]]:\n",
    "        return False\n",
    "    \n",
    "    # Aynı sütunda aynı sayı yok mu diye kontrol et\n",
    "    for i in range(9):\n",
    "        if board[i][pos[1]] == num:\n",
    "            return False\n",
    "    \n",
    "    # 3x3'lük kutuda aynı sayı yok mu diye kontrol et\n",
    "    box_row = pos[0] // 3\n",
    "    box_col = pos[1] // 3\n",
    "\n",
    "    for i in range(box_row * 3, box_row * 3 + 3):\n",
    "        for j in range(box_col * 3, box_col * 3 + 3):\n",
    "            if board[i][j] == num:\n",
    "                return False\n",
    "\n",
    "    return True\n",
    "\n",
    "board = generate_board()\n",
    "print_board(board)\n"
   ]
  },
  {
   "cell_type": "code",
   "execution_count": null,
   "id": "e3618f3d",
   "metadata": {},
   "outputs": [],
   "source": []
  }
 ],
 "metadata": {
  "kernelspec": {
   "display_name": "Python 3 (ipykernel)",
   "language": "python",
   "name": "python3"
  },
  "language_info": {
   "codemirror_mode": {
    "name": "ipython",
    "version": 3
   },
   "file_extension": ".py",
   "mimetype": "text/x-python",
   "name": "python",
   "nbconvert_exporter": "python",
   "pygments_lexer": "ipython3",
   "version": "3.11.3"
  }
 },
 "nbformat": 4,
 "nbformat_minor": 5
}
