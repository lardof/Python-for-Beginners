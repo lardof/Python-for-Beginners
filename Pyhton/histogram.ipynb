{
 "cells": [
  {
   "cell_type": "code",
   "execution_count": 7,
   "id": "ef41e376",
   "metadata": {},
   "outputs": [],
   "source": [
    "import numpy as np\n",
    "import matplotlib.pyplot as plt"
   ]
  },
  {
   "cell_type": "code",
   "execution_count": 9,
   "id": "ee2027d8",
   "metadata": {},
   "outputs": [
    {
     "data": {
      "text/plain": [
       "array([ -28.,  130.,   72.,   84.,  436.,  113.,  311.,   80.,  209.,\n",
       "        141.,  113.,  140.,   51.,  -35., -294.,  -17.,  170.,  186.,\n",
       "        228.,  141.,  -40.,  234.,  309.,   27.,  138.,  268.,  205.,\n",
       "        -39.,  354., -116.,  148.,  185., -116.,   63.,  163.,   70.,\n",
       "        -23.,   85.,  162.,  159.,  413.,  341.,  244., -160.,  229.,\n",
       "        125.,  220.,   11.,   64.,  243.])"
      ]
     },
     "execution_count": 9,
     "metadata": {},
     "output_type": "execute_result"
    }
   ],
   "source": [
    "a = np.random.normal(100,150,50)   #100 merkez 150 olcek 50 sayi miktari\n",
    "a = a.round()\n",
    "a"
   ]
  },
  {
   "cell_type": "code",
   "execution_count": 16,
   "id": "14de6cc5",
   "metadata": {},
   "outputs": [
    {
     "data": {
      "image/png": "[encoded data removed]",
      "text/plain": [
       "<Figure size 640x480 with 1 Axes>"
      ]
     },
     "metadata": {},
     "output_type": "display_data"
    }
   ],
   "source": [
    "plt.hist(a,width = 10,color = \"black\")\n",
    "plt.show()"
   ]
  },
  {
   "cell_type": "code",
   "execution_count": null,
   "id": "57befc32",
   "metadata": {},
   "outputs": [],
   "source": []
  }
 ],
 "metadata": {
  "kernelspec": {
   "display_name": "Python 3 (ipykernel)",
   "language": "python",
   "name": "python3"
  },
  "language_info": {
   "codemirror_mode": {
    "name": "ipython",
    "version": 3
   },
   "file_extension": ".py",
   "mimetype": "text/x-python",
   "name": "python",
   "nbconvert_exporter": "python",
   "pygments_lexer": "ipython3",
   "version": "3.9.16"
  }
 },
 "nbformat": 4,
 "nbformat_minor": 5
}
