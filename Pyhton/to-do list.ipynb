{
 "cells": [
  {
   "cell_type": "code",
   "execution_count": null,
   "id": "a9371c05",
   "metadata": {},
   "outputs": [
    {
     "name": "stdout",
     "output_type": "stream",
     "text": [
      "\n",
      "To-Do List Uygulaması\n",
      "1. Görev Ekle\n",
      "2. Görevleri Göster\n",
      "3. Görev Sil\n",
      "4. Çıkış\n"
     ]
    }
   ],
   "source": [
    "to_do_list = []\n",
    "\n",
    "while True:\n",
    "    print(\"\\nTo-Do List Uygulaması\")\n",
    "    print(\"1. Görev Ekle\")\n",
    "    print(\"2. Görevleri Göster\")\n",
    "    print(\"3. Görev Sil\")\n",
    "    print(\"4. Çıkış\")\n",
    "    choice = input(\"Seçiminiz (1-2-3-4): \")\n",
    "    \n",
    "    if choice == \"1\":\n",
    "        task = input(\"Yapılacak görevi giriniz: \")\n",
    "        to_do_list.append(task)\n",
    "        print(\"Görev başarıyla listeye eklendi.\")\n",
    "    elif choice == \"2\":\n",
    "        if len(to_do_list) == 0:\n",
    "            print(\"Yapılacak görev bulunmuyor.\")\n",
    "        else:\n",
    "            print(\"Yapılacak Görevler:\")\n",
    "            for task in to_do_list:\n",
    "                print(\"- \" + task)\n",
    "    elif choice == \"3\":\n",
    "        if len(to_do_list) == 0:\n",
    "            print(\"Silinecek görev bulunmuyor.\")\n",
    "        else:\n",
    "            task = input(\"Silmek istediğiniz görevi girin: \")\n",
    "            if task in to_do_list:\n",
    "                to_do_list.remove(task)\n",
    "                print(\"Görev başarıyla silindi.\")\n",
    "            else:\n",
    "                print(\"Görev bulunamadı.\")\n",
    "    elif choice == \"4\":\n",
    "        print(\"Uygulamadan çıkılıyor...\")\n",
    "        break\n",
    "    else:\n",
    "        print(\"Geçersiz seçim. Lütfen tekrar deneyin.\")\n"
   ]
  },
  {
   "cell_type": "code",
   "execution_count": null,
   "id": "8eb5ed3e",
   "metadata": {},
   "outputs": [],
   "source": []
  }
 ],
 "metadata": {
  "kernelspec": {
   "display_name": "Python 3 (ipykernel)",
   "language": "python",
   "name": "python3"
  },
  "language_info": {
   "codemirror_mode": {
    "name": "ipython",
    "version": 3
   },
   "file_extension": ".py",
   "mimetype": "text/x-python",
   "name": "python",
   "nbconvert_exporter": "python",
   "pygments_lexer": "ipython3",
   "version": "3.11.2"
  }
 },
 "nbformat": 4,
 "nbformat_minor": 5
}
