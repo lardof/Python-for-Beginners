{
 "cells": [
  {
   "cell_type": "markdown",
   "id": "6028fb18",
   "metadata": {},
   "source": [
    "# Soru 1\n",
    "\n",
    "3'un veya 5'in kati olan 10'dan kucuk tum dogal sayilari listelersek 3,4,6 ve 9'u elde ederiz.Bu katlarin toplami 23'tur.\n",
    "\n",
    "3'un veya 5'in 1000'den kucuk tum katlarinin toplamini bulunuz."
   ]
  },
  {
   "cell_type": "markdown",
   "id": "6bd1c7a8",
   "metadata": {},
   "source": [
    "# Cevap"
   ]
  },
  {
   "cell_type": "code",
   "execution_count": 1,
   "id": "ea32b23b",
   "metadata": {},
   "outputs": [
    {
     "name": "stdout",
     "output_type": "stream",
     "text": [
      "233168\n"
     ]
    }
   ],
   "source": [
    "toplam = 0\n",
    "for sayi in range(1000):\n",
    "    if sayi %3==0 or sayi %5==0:\n",
    "        toplam=toplam+sayi     #bu ifadelerde esitligin sag tarafi hesaplarin sonra sol tarafa aktailir\n",
    "print(toplam)        \n",
    "        \n",
    "    "
   ]
  },
  {
   "cell_type": "markdown",
   "id": "a82d15b4",
   "metadata": {},
   "source": [
    "#  Alternatif Cevap"
   ]
  },
  {
   "cell_type": "code",
   "execution_count": 6,
   "id": "48ae572f",
   "metadata": {},
   "outputs": [
    {
     "name": "stdout",
     "output_type": "stream",
     "text": [
      "233168\n"
     ]
    }
   ],
   "source": [
    "total = 0\n",
    "\n",
    "for i in range(1000):\n",
    "    if i % 3 == 0 and i % 5 == 0:\n",
    "        total += i\n",
    "    elif i % 3 == 0:\n",
    "        total += i\n",
    "    elif i % 5 == 0:\n",
    "        total += i\n",
    "\n",
    "print(total)\n"
   ]
  },
  {
   "cell_type": "markdown",
   "id": "d42fc17c",
   "metadata": {},
   "source": [
    "# ========================================================"
   ]
  },
  {
   "cell_type": "markdown",
   "id": "737da66d",
   "metadata": {},
   "source": [
    "# Soru 2\n",
    "\n",
    "Herhangi bir cumlenin kelime sayisini buldurmak.\n"
   ]
  },
  {
   "cell_type": "markdown",
   "id": "e8d0843e",
   "metadata": {},
   "source": [
    "# Cevap "
   ]
  },
  {
   "cell_type": "code",
   "execution_count": 2,
   "id": "c03bbd83",
   "metadata": {},
   "outputs": [
    {
     "name": "stdout",
     "output_type": "stream",
     "text": [
      "Bir cumle giriniz:benim adım oguz mete kaya\n",
      "Kelime sayisi:  5\n"
     ]
    }
   ],
   "source": [
    "cumle = input(\"Bir cumle giriniz:\")\n",
    "\n",
    "bosluk=0\n",
    "for karakter in cumle:\n",
    "    if karakter==\" \":\n",
    "        bosluk=bosluk+1\n",
    "print(\"Kelime sayisi: \",bosluk+1)\n",
    "    "
   ]
  },
  {
   "cell_type": "markdown",
   "id": "35c791df",
   "metadata": {},
   "source": [
    "#  Alternatif Cevap"
   ]
  },
  {
   "cell_type": "code",
   "execution_count": 7,
   "id": "33f214dd",
   "metadata": {},
   "outputs": [
    {
     "name": "stdout",
     "output_type": "stream",
     "text": [
      "Bir cümle girin: merhaba benim adım oğuz mete kaya\n",
      "Cümledeki kelime sayısı: 6\n"
     ]
    }
   ],
   "source": [
    "cumle = input(\"Bir cümle girin: \")\n",
    "\n",
    "kelime_sayisi = len(cumle.split())  # split() fonksiyonu ile cümleyi kelimelere ayırıyoruz ve len() fonksiyonu ile kelime sayısını hesaplıyoruz.\n",
    "\n",
    "print(\"Cümledeki kelime sayısı:\", kelime_sayisi)  # Kelime sayısını ekrana yazdırıyoruz.\n"
   ]
  },
  {
   "cell_type": "markdown",
   "id": "92f3f2d2",
   "metadata": {},
   "source": [
    "# ========================================================"
   ]
  },
  {
   "cell_type": "markdown",
   "id": "af39129b",
   "metadata": {},
   "source": [
    "# Soru 3\n",
    "ılk 10 sayının karelerı toplamı, 1^2 + 2^2 + ... + 10^2 = 385\n",
    "\n",
    "ilk 10 dogal sayinin toplamlarinin karesi, (1 + 2 + ... + 10)^2 = 55^2 = 3025\n",
    "\n",
    "ilk 10 dogal sayi icin toplamlarinin karesi ile karelerin toplami arasindaki fark ; 3025=385 = 2640\n",
    "\n",
    "ilk 100 dogal sayinin toplamlarinin karesi ile karelerinin toplami arasindaki farki bulunuz"
   ]
  },
  {
   "cell_type": "markdown",
   "id": "9f5bb2eb",
   "metadata": {},
   "source": [
    "# Cevap"
   ]
  },
  {
   "cell_type": "code",
   "execution_count": 5,
   "id": "8bba340b",
   "metadata": {},
   "outputs": [
    {
     "name": "stdout",
     "output_type": "stream",
     "text": [
      "25502500 338350 25164150\n"
     ]
    }
   ],
   "source": [
    "def KareTop(x):\n",
    "    toplam=0\n",
    "    for n in range(x+1):   #sadece sayi dersek sayi dahil olmaz sayiya kadar dahil olur\n",
    "        toplam+=n**2\n",
    "    return toplam   #karelerinin tek tek toplaminin almak icin bunu kullniyoruz\n",
    "\n",
    "def ToplamKare(y):\n",
    "    toplam=0\n",
    "    for n in range(y+1):\n",
    "        toplam+=n\n",
    "    return toplam**2\n",
    "\n",
    "print(ToplamKare(100),KareTop(100),ToplamKare(100)-KareTop(100))"
   ]
  },
  {
   "cell_type": "markdown",
   "id": "70c77d60",
   "metadata": {},
   "source": [
    "# Alternatif Cevap"
   ]
  },
  {
   "cell_type": "code",
   "execution_count": 8,
   "id": "df6f86ff",
   "metadata": {},
   "outputs": [
    {
     "name": "stdout",
     "output_type": "stream",
     "text": [
      "İlk 100 doğal sayının toplamlarının karesi ile karelerinin toplamı arasındaki fark: 25164150\n"
     ]
    }
   ],
   "source": [
    "n = 100\n",
    "\n",
    "# İlk 100 doğal sayının toplamı\n",
    "toplam = sum(range(1, n+1))\n",
    "\n",
    "# İlk 100 doğal sayının toplamının karesi\n",
    "toplam_kare = toplam ** 2\n",
    "\n",
    "# İlk 100 doğal sayının karelerinin toplamı\n",
    "kare_toplam = sum(i**2 for i in range(1, n+1))\n",
    "\n",
    "# Farkı hesapla ve ekrana yazdır\n",
    "fark = toplam_kare - kare_toplam\n",
    "print(\"İlk 100 doğal sayının toplamlarının karesi ile karelerinin toplamı arasındaki fark:\", fark)\n"
   ]
  },
  {
   "cell_type": "code",
   "execution_count": null,
   "id": "30d37b55",
   "metadata": {},
   "outputs": [],
   "source": []
  }
 ],
 "metadata": {
  "kernelspec": {
   "display_name": "Python 3 (ipykernel)",
   "language": "python",
   "name": "python3"
  },
  "language_info": {
   "codemirror_mode": {
    "name": "ipython",
    "version": 3
   },
   "file_extension": ".py",
   "mimetype": "text/x-python",
   "name": "python",
   "nbconvert_exporter": "python",
   "pygments_lexer": "ipython3",
   "version": "3.11.3"
  }
 },
 "nbformat": 4,
 "nbformat_minor": 5
}
